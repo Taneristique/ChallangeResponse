{
 "cells": [
  {
   "cell_type": "code",
   "execution_count": 5,
   "metadata": {},
   "outputs": [
    {
     "name": "stdout",
     "output_type": "stream",
     "text": [
      "['spam', 'eggs', 'joke']\n"
     ]
    }
   ],
   "source": [
    "def fct(word,shift):\n",
    "    \"\"\"This function gets two parameter \n",
    "        word : string and shift : integer.\n",
    "        Then it will automatically create an empty list called elist and empty word called eword.\n",
    "        It will create new words as shifting your word via shift parameter and an eword which is string type variable.\n",
    "        Then it will add each string to the elist via second for loop.\n",
    "        This way maximum shift times world will be created by function.\n",
    "    \"\"\"\n",
    "    eword=\"\"\n",
    "    elist=[]\n",
    "    for i in range(0,shift): #main loop the length of list will be equal to shift parameter \n",
    "        for w in range(i,len(word),shift):  #create new words and add them to empty list as shifting words\n",
    "            if(len(word)-1>=w+shift):\n",
    "                eword+=word[w]\n",
    "            else:\n",
    "                eword+=word[w]\n",
    "                elist.append(eword)\n",
    "                eword=\"\"\n",
    "                break\n",
    "    return(print(elist))\n",
    "fct('sejpgoagkmse',3)"
   ]
  }
 ],
 "metadata": {
  "interpreter": {
   "hash": "4e59bb679235a5e9d538c7c4fc9c388a9f678dd3f05850c2a43e10fd2f2f4c70"
  },
  "kernelspec": {
   "display_name": "Python 3.9.10 64-bit (windows store)",
   "language": "python",
   "name": "python3"
  },
  "language_info": {
   "codemirror_mode": {
    "name": "ipython",
    "version": 3
   },
   "file_extension": ".py",
   "mimetype": "text/x-python",
   "name": "python",
   "nbconvert_exporter": "python",
   "pygments_lexer": "ipython3",
   "version": "3.9.10"
  },
  "orig_nbformat": 4
 },
 "nbformat": 4,
 "nbformat_minor": 2
}
